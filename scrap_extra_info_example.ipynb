{
 "cells": [
  {
   "cell_type": "code",
   "execution_count": 5,
   "metadata": {},
   "outputs": [],
   "source": [
    "import requests\n",
    "import json\n",
    "import bs4\n",
    "import re\n",
    "import pandas as pd\n",
    "from tqdm import tqdm\n",
    "\n",
    "def AssetAllocationInfo(SecId, headers):\n",
    "  url = f\"https://www.us-api.morningstar.com/sal/sal-service/fund/process/asset/v2/{SecId}/data?languageId=zh-HK&locale=zh-HK&clientId=MDC_intl&benchmarkId=mstarorcat&component=sal-components-mip-asset-allocation&version=3.60.0\"\n",
    "  res = requests.get(url, headers = headers)\n",
    "  data = json.loads(res.content.decode(\"utf-8\"))\n",
    "  allocation = []\n",
    "  percent = []\n",
    "  for i in data['allocationMap']:\n",
    "    allocation.append(i)\n",
    "    percent.append(data['allocationMap'][i][\"netAllocation\"])\n",
    "  return allocation, percent\n",
    "\n",
    "def get_token(SecId):\n",
    "  url = f\"https://www.morningstar.hk/hk/report/fund/portfolio.aspx?t={SecId}&fundservcode=&lang=zh-HK\"\n",
    "  res = requests.get(url)\n",
    "  token = re.findall(\"maas_token=.*content\", str(bs4.BeautifulSoup(res.content.decode(\"utf-8\")).find(name=\"sal-components\")))[0][12:-13]\n",
    "  return token"
   ]
  },
  {
   "cell_type": "code",
   "execution_count": 6,
   "metadata": {},
   "outputs": [],
   "source": [
    "df = pd.read_csv(\"YOUR_FILENAME_HERE.csv\")   "
   ]
  },
  {
   "cell_type": "code",
   "execution_count": 16,
   "metadata": {},
   "outputs": [
    {
     "name": "stdout",
     "output_type": "stream",
     "text": [
      "(['AssetAllocCash', 'AssetAllocNotClassified', 'AssetAllocNonUSEquity', 'AssetAllocOther', 'AssetAllocUSEquity', 'AssetAllocBond'], ['-119.68299', '15.095040000000001', '34.35388', '0.66375', '61.71301', '107.85719'])\n"
     ]
    }
   ],
   "source": [
    "def get_extra_info(df):\n",
    "  for SecId in df.SecId.to_list()[:1]:\n",
    "    token = get_token(SecId)\n",
    "    token = f\"Bearer {token}\"\n",
    "    headers = {\"authorization\": token}\n",
    "    print(AssetAllocationInfo(SecId, headers))\n",
    "  \n",
    "get_extra_info(df)"
   ]
  },
  {
   "cell_type": "code",
   "execution_count": null,
   "metadata": {},
   "outputs": [],
   "source": []
  }
 ],
 "metadata": {
  "kernelspec": {
   "display_name": "Python 3",
   "language": "python",
   "name": "python3"
  },
  "language_info": {
   "codemirror_mode": {
    "name": "ipython",
    "version": 3
   },
   "file_extension": ".py",
   "mimetype": "text/x-python",
   "name": "python",
   "nbconvert_exporter": "python",
   "pygments_lexer": "ipython3",
   "version": "3.7.0"
  },
  "orig_nbformat": 4,
  "vscode": {
   "interpreter": {
    "hash": "bea42e1b0e07028483ba0ff26b9b4dc4fa162e9d0ccb6b0507d54b9d42d30653"
   }
  }
 },
 "nbformat": 4,
 "nbformat_minor": 2
}
